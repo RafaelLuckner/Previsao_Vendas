{
 "cells": [
  {
   "cell_type": "markdown",
   "id": "d99c8f04",
   "metadata": {
    "jp-MarkdownHeadingCollapsed": true
   },
   "source": [
    "# 0.0 Imports config e data"
   ]
  },
  {
   "cell_type": "code",
   "execution_count": 1,
   "id": "416aaafa",
   "metadata": {},
   "outputs": [
    {
     "name": "stdout",
     "output_type": "stream",
     "text": [
      "Ok\n"
     ]
    }
   ],
   "source": [
    "import math\n",
    "import pandas as pd \n",
    "import inflection\n",
    "import numpy as np\n",
    "import datetime \n",
    "import seaborn as sns\n",
    "\n",
    "from matplotlib.gridspec import GridSpec\n",
    "from matplotlib import pyplot as plt\n",
    "from IPython.core.display import HTML\n",
    "from IPython.display import Image\n",
    "from scipy import stats as ss\n",
    "\n",
    "from sklearn.preprocessing import RobustScaler, MinMaxScaler\n",
    "from sklearn.preprocessing import LabelEncoder\n",
    "print('Ok')"
   ]
  },
  {
   "cell_type": "markdown",
   "id": "23568b96-9f2b-4dbf-8ab2-fabbe98cd122",
   "metadata": {},
   "source": [
    "## 0.1 Helper Functions"
   ]
  },
  {
   "cell_type": "code",
   "execution_count": null,
   "id": "0f1438b4-8675-4f4c-a13c-f52bac401537",
   "metadata": {},
   "outputs": [],
   "source": []
  },
  {
   "cell_type": "code",
   "execution_count": 2,
   "id": "ec2a27b6-8e91-455b-8f2a-1d74e5883999",
   "metadata": {},
   "outputs": [],
   "source": [
    "def jupyter_settings():\n",
    "    %matplotlib inline\n",
    "    # %pylab inline\n",
    "    plt.style.use( 'bmh' )\n",
    "    plt.rcParams['figure.figsize'] = [25, 12]\n",
    "    plt.rcParams['font.size'] = 24\n",
    "    display( HTML( '<style>.container { width:100% !important; }</style>') )\n",
    "    pd.options.display.max_columns = None\n",
    "    pd.set_option('display.max_rows', 100) \n",
    "    pd.set_option( 'display.expand_frame_repr', False )\n",
    "    sns.set()\n",
    "\n",
    "def cramer_v(x, y):\n",
    "\n",
    "    cm = pd.crosstab(x,y)\n",
    "    cm = cm.values\n",
    "    # print(cm,'\\n')\n",
    "    n= cm.sum()\n",
    "    # print(n,'\\n')\n",
    "    r,k = cm.shape\n",
    "    # print(cm.shape, '\\n')\n",
    "\n",
    "    chi2 = ss.chi2_contingency(cm)[0]\n",
    "    # print(chi2,'\\n')\n",
    "    chi2corr = max(0, chi2 - (k-1)*(r-1)/(n-1))\n",
    "    \n",
    "    kcorr = k - (k-1)**2/(n-1)\n",
    "    rcorr = r - (r-1)**2/(n-1)\n",
    "    return np.sqrt((chi2corr/n) / ( min(kcorr-1, rcorr-1)))\n"
   ]
  },
  {
   "cell_type": "code",
   "execution_count": 3,
   "id": "f803e53a-7526-4b27-9eef-acc0f49c102b",
   "metadata": {},
   "outputs": [
    {
     "data": {
      "text/html": [
       "<style>.container { width:100% !important; }</style>"
      ],
      "text/plain": [
       "<IPython.core.display.HTML object>"
      ]
     },
     "metadata": {},
     "output_type": "display_data"
    }
   ],
   "source": [
    "jupyter_settings()"
   ]
  },
  {
   "cell_type": "markdown",
   "id": "45f8c7d3",
   "metadata": {
    "jp-MarkdownHeadingCollapsed": true
   },
   "source": [
    "## 0.2 Loading data "
   ]
  },
  {
   "cell_type": "code",
   "execution_count": 4,
   "id": "904b47eb",
   "metadata": {},
   "outputs": [],
   "source": [
    "df_sales_raw = pd.read_csv(\"data/train.csv\",low_memory = False)\n",
    "df_store_raw = pd.read_csv('data/store.csv',low_memory = False)"
   ]
  },
  {
   "cell_type": "code",
   "execution_count": 5,
   "id": "f440226d",
   "metadata": {},
   "outputs": [
    {
     "data": {
      "text/html": [
       "<div>\n",
       "<style scoped>\n",
       "    .dataframe tbody tr th:only-of-type {\n",
       "        vertical-align: middle;\n",
       "    }\n",
       "\n",
       "    .dataframe tbody tr th {\n",
       "        vertical-align: top;\n",
       "    }\n",
       "\n",
       "    .dataframe thead th {\n",
       "        text-align: right;\n",
       "    }\n",
       "</style>\n",
       "<table border=\"1\" class=\"dataframe\">\n",
       "  <thead>\n",
       "    <tr style=\"text-align: right;\">\n",
       "      <th></th>\n",
       "      <th>Store</th>\n",
       "      <th>StoreType</th>\n",
       "      <th>Assortment</th>\n",
       "      <th>CompetitionDistance</th>\n",
       "      <th>CompetitionOpenSinceMonth</th>\n",
       "      <th>CompetitionOpenSinceYear</th>\n",
       "      <th>Promo2</th>\n",
       "      <th>Promo2SinceWeek</th>\n",
       "      <th>Promo2SinceYear</th>\n",
       "      <th>PromoInterval</th>\n",
       "    </tr>\n",
       "  </thead>\n",
       "  <tbody>\n",
       "    <tr>\n",
       "      <th>0</th>\n",
       "      <td>1</td>\n",
       "      <td>c</td>\n",
       "      <td>a</td>\n",
       "      <td>1270.0</td>\n",
       "      <td>9.0</td>\n",
       "      <td>2008.0</td>\n",
       "      <td>0</td>\n",
       "      <td>NaN</td>\n",
       "      <td>NaN</td>\n",
       "      <td>NaN</td>\n",
       "    </tr>\n",
       "    <tr>\n",
       "      <th>1</th>\n",
       "      <td>2</td>\n",
       "      <td>a</td>\n",
       "      <td>a</td>\n",
       "      <td>570.0</td>\n",
       "      <td>11.0</td>\n",
       "      <td>2007.0</td>\n",
       "      <td>1</td>\n",
       "      <td>13.0</td>\n",
       "      <td>2010.0</td>\n",
       "      <td>Jan,Apr,Jul,Oct</td>\n",
       "    </tr>\n",
       "  </tbody>\n",
       "</table>\n",
       "</div>"
      ],
      "text/plain": [
       "   Store StoreType Assortment  CompetitionDistance  CompetitionOpenSinceMonth  CompetitionOpenSinceYear  Promo2  Promo2SinceWeek  Promo2SinceYear    PromoInterval\n",
       "0      1         c          a               1270.0                        9.0                    2008.0       0              NaN              NaN              NaN\n",
       "1      2         a          a                570.0                       11.0                    2007.0       1             13.0           2010.0  Jan,Apr,Jul,Oct"
      ]
     },
     "execution_count": 5,
     "metadata": {},
     "output_type": "execute_result"
    }
   ],
   "source": [
    "df_store_raw.head(2)"
   ]
  },
  {
   "cell_type": "code",
   "execution_count": 6,
   "id": "1128a92c",
   "metadata": {},
   "outputs": [
    {
     "data": {
      "text/html": [
       "<div>\n",
       "<style scoped>\n",
       "    .dataframe tbody tr th:only-of-type {\n",
       "        vertical-align: middle;\n",
       "    }\n",
       "\n",
       "    .dataframe tbody tr th {\n",
       "        vertical-align: top;\n",
       "    }\n",
       "\n",
       "    .dataframe thead th {\n",
       "        text-align: right;\n",
       "    }\n",
       "</style>\n",
       "<table border=\"1\" class=\"dataframe\">\n",
       "  <thead>\n",
       "    <tr style=\"text-align: right;\">\n",
       "      <th></th>\n",
       "      <th>Store</th>\n",
       "      <th>DayOfWeek</th>\n",
       "      <th>Date</th>\n",
       "      <th>Sales</th>\n",
       "      <th>Customers</th>\n",
       "      <th>Open</th>\n",
       "      <th>Promo</th>\n",
       "      <th>StateHoliday</th>\n",
       "      <th>SchoolHoliday</th>\n",
       "    </tr>\n",
       "  </thead>\n",
       "  <tbody>\n",
       "    <tr>\n",
       "      <th>0</th>\n",
       "      <td>1</td>\n",
       "      <td>5</td>\n",
       "      <td>2015-07-31</td>\n",
       "      <td>5263</td>\n",
       "      <td>555</td>\n",
       "      <td>1</td>\n",
       "      <td>1</td>\n",
       "      <td>0</td>\n",
       "      <td>1</td>\n",
       "    </tr>\n",
       "    <tr>\n",
       "      <th>1</th>\n",
       "      <td>2</td>\n",
       "      <td>5</td>\n",
       "      <td>2015-07-31</td>\n",
       "      <td>6064</td>\n",
       "      <td>625</td>\n",
       "      <td>1</td>\n",
       "      <td>1</td>\n",
       "      <td>0</td>\n",
       "      <td>1</td>\n",
       "    </tr>\n",
       "  </tbody>\n",
       "</table>\n",
       "</div>"
      ],
      "text/plain": [
       "   Store  DayOfWeek        Date  Sales  Customers  Open  Promo StateHoliday  SchoolHoliday\n",
       "0      1          5  2015-07-31   5263        555     1      1            0              1\n",
       "1      2          5  2015-07-31   6064        625     1      1            0              1"
      ]
     },
     "execution_count": 6,
     "metadata": {},
     "output_type": "execute_result"
    }
   ],
   "source": [
    "df_sales_raw.head(2)"
   ]
  },
  {
   "cell_type": "code",
   "execution_count": 7,
   "id": "3e23f575",
   "metadata": {},
   "outputs": [],
   "source": [
    "df_raw = pd.merge(df_sales_raw, df_store_raw, how = 'left', on= 'Store')"
   ]
  },
  {
   "cell_type": "markdown",
   "id": "78641e18",
   "metadata": {
    "jp-MarkdownHeadingCollapsed": true
   },
   "source": [
    "# 1.0 Passo 1- Data Decription "
   ]
  },
  {
   "cell_type": "markdown",
   "id": "b818381c",
   "metadata": {
    "jp-MarkdownHeadingCollapsed": true
   },
   "source": [
    "## 1.1 Rename columns"
   ]
  },
  {
   "cell_type": "code",
   "execution_count": 8,
   "id": "4de5ebf7",
   "metadata": {},
   "outputs": [],
   "source": [
    "df1 = df_raw.copy()\n",
    "cols = ['Store', 'DayOfWeek', 'Date', 'Sales', 'Customers', 'Open', 'Promo','StateHoliday', 'SchoolHoliday',\n",
    "           'StoreType', 'Assortment','CompetitionDistance', 'CompetitionOpenSinceMonth',\n",
    "           'CompetitionOpenSinceYear', 'Promo2', 'Promo2SinceWeek','Promo2SinceYear', 'PromoInterval']\n",
    "cols_new = list(map(lambda x: inflection.underscore( x ),cols))\n",
    "\n",
    "df1.columns = cols_new"
   ]
  },
  {
   "cell_type": "markdown",
   "id": "f94aac0e",
   "metadata": {
    "jp-MarkdownHeadingCollapsed": true
   },
   "source": [
    "## 1.2 Data Dimensions"
   ]
  },
  {
   "cell_type": "code",
   "execution_count": 9,
   "id": "5e4f4984",
   "metadata": {},
   "outputs": [
    {
     "name": "stdout",
     "output_type": "stream",
     "text": [
      "Linhas : 1017209\n",
      "Colunas: 18\n"
     ]
    }
   ],
   "source": [
    "print(f'Linhas : {df1.shape[0]}')\n",
    "print(f'Colunas: {df1.shape[1]}')"
   ]
  },
  {
   "cell_type": "markdown",
   "id": "11d65bfd",
   "metadata": {
    "jp-MarkdownHeadingCollapsed": true
   },
   "source": [
    "## 1.3 Data Types"
   ]
  },
  {
   "cell_type": "code",
   "execution_count": 10,
   "id": "4c5a4d73",
   "metadata": {},
   "outputs": [],
   "source": [
    "df1['date'] = pd.to_datetime(df1[\"date\"])"
   ]
  },
  {
   "cell_type": "code",
   "execution_count": 11,
   "id": "99884202",
   "metadata": {},
   "outputs": [
    {
     "data": {
      "text/plain": [
       "store                                    int64\n",
       "day_of_week                              int64\n",
       "date                            datetime64[ns]\n",
       "sales                                    int64\n",
       "customers                                int64\n",
       "open                                     int64\n",
       "promo                                    int64\n",
       "state_holiday                           object\n",
       "school_holiday                           int64\n",
       "store_type                              object\n",
       "assortment                              object\n",
       "competition_distance                   float64\n",
       "competition_open_since_month           float64\n",
       "competition_open_since_year            float64\n",
       "promo2                                   int64\n",
       "promo2_since_week                      float64\n",
       "promo2_since_year                      float64\n",
       "promo_interval                          object\n",
       "dtype: object"
      ]
     },
     "execution_count": 11,
     "metadata": {},
     "output_type": "execute_result"
    }
   ],
   "source": [
    "df1.dtypes"
   ]
  },
  {
   "cell_type": "markdown",
   "id": "8821d8c2",
   "metadata": {
    "jp-MarkdownHeadingCollapsed": true
   },
   "source": [
    "## 1.4 Check NA"
   ]
  },
  {
   "cell_type": "code",
   "execution_count": 12,
   "id": "00dce13e",
   "metadata": {},
   "outputs": [
    {
     "name": "stdout",
     "output_type": "stream",
     "text": [
      "161 ms ± 3.23 ms per loop (mean ± std. dev. of 7 runs, 5 loops each)\n"
     ]
    }
   ],
   "source": [
    "%%timeit -n 5\n",
    "df1.isna().sum()"
   ]
  },
  {
   "cell_type": "markdown",
   "id": "a18b2b2d",
   "metadata": {
    "jp-MarkdownHeadingCollapsed": true
   },
   "source": [
    "## 1.5 Fillout NA "
   ]
  },
  {
   "cell_type": "code",
   "execution_count": 13,
   "id": "4253bddc",
   "metadata": {},
   "outputs": [
    {
     "name": "stdout",
     "output_type": "stream",
     "text": [
      "CPU times: user 53.5 s, sys: 870 ms, total: 54.4 s\n",
      "Wall time: 54.4 s\n"
     ]
    }
   ],
   "source": [
    "%%time\n",
    "# competition_distance  \n",
    "df1['competition_distance'] = df1['competition_distance'].apply(lambda x: 200000.0 if math.isnan(x) else x )\n",
    "\n",
    "# competition_open_since_month    \n",
    "df1['competition_open_since_month'] = df1.apply(lambda x: x[\"date\"].month if math.isnan(x['competition_open_since_month']) else x['competition_open_since_month'], axis = 1)\n",
    "\n",
    "# competition_open_since_year     \n",
    "df1['competition_open_since_year'] = df1.apply(lambda x: x[\"date\"].year if math.isnan(x['competition_open_since_year']) else x['competition_open_since_year'], axis = 1)\n",
    "                            \n",
    "# promo2_since_week               \n",
    "df1['promo2_since_week'] = df1.apply(lambda x: x[\"date\"].week if math.isnan(x['promo2_since_week']) else x['promo2_since_week'], axis = 1)\n",
    "\n",
    "# promo2_since_year               \n",
    "df1['promo2_since_year'] = df1.apply(lambda x: x[\"date\"].year if math.isnan(x['promo2_since_year']) else x['promo2_since_year'], axis = 1)\n",
    "\n",
    "# promo_interval      \n",
    "month_map = {1:'Jan',2:'Fev',3:'Mar',4:'Apr',5:'May',6:'Jun',7:'Jul',1:'Aug',9:'Sep',10:'Oct',11:'Nov',12:'Dec'}\n",
    "df1['promo_interval'] = df1['promo_interval'].fillna(0)\n",
    "df1['month_map'] = df1['date'].dt.month.map(month_map)\n",
    "df1['is_promo'] = df1[['promo_interval', 'month_map']].apply( lambda x: 0 if x['promo_interval']== 0 else 1 if x['month_map'] in x['promo_interval'].split(',') else 0, axis = 1)"
   ]
  },
  {
   "cell_type": "markdown",
   "id": "c6395fb0",
   "metadata": {
    "jp-MarkdownHeadingCollapsed": true
   },
   "source": [
    "## 1.6 Change Types"
   ]
  },
  {
   "cell_type": "code",
   "execution_count": 14,
   "id": "eb539761",
   "metadata": {},
   "outputs": [
    {
     "data": {
      "text/plain": [
       "store                                    int64\n",
       "day_of_week                              int64\n",
       "date                            datetime64[ns]\n",
       "sales                                    int64\n",
       "customers                                int64\n",
       "open                                     int64\n",
       "promo                                    int64\n",
       "state_holiday                           object\n",
       "school_holiday                           int64\n",
       "store_type                              object\n",
       "assortment                              object\n",
       "competition_distance                   float64\n",
       "competition_open_since_month           float64\n",
       "competition_open_since_year            float64\n",
       "promo2                                   int64\n",
       "promo2_since_week                      float64\n",
       "promo2_since_year                      float64\n",
       "promo_interval                          object\n",
       "month_map                               object\n",
       "is_promo                                 int64\n",
       "dtype: object"
      ]
     },
     "execution_count": 14,
     "metadata": {},
     "output_type": "execute_result"
    }
   ],
   "source": [
    "df1.dtypes"
   ]
  },
  {
   "cell_type": "code",
   "execution_count": 15,
   "id": "04f6acf5",
   "metadata": {},
   "outputs": [],
   "source": [
    "df1['competition_open_since_month'] = df1['competition_open_since_month'].astype(int)\n",
    "df1['competition_open_since_year'] = df1['competition_open_since_year'].astype(int)\n",
    "\n",
    "df1['promo2_since_week'] = df1['promo2_since_week'].astype(int)\n",
    "df1['promo2_since_year'] = df1['promo2_since_year'].astype(int)"
   ]
  },
  {
   "cell_type": "markdown",
   "id": "91016143",
   "metadata": {},
   "source": [
    "## 1.7 Descriptive Statistical"
   ]
  },
  {
   "cell_type": "code",
   "execution_count": 16,
   "id": "020560bf",
   "metadata": {},
   "outputs": [],
   "source": [
    "num_attributes = df1.select_dtypes(include = ['int64', 'float64', 'int32'])\n",
    "cat_attributes = df1.select_dtypes(exclude = ['int64', 'float64', 'int32', 'datetime64[ns]'])"
   ]
  },
  {
   "cell_type": "markdown",
   "id": "41846517",
   "metadata": {
    "jp-MarkdownHeadingCollapsed": true
   },
   "source": [
    "### 1.7.1 Numerical Atributes"
   ]
  },
  {
   "cell_type": "code",
   "execution_count": 17,
   "id": "f6022d50",
   "metadata": {},
   "outputs": [
    {
     "name": "stdout",
     "output_type": "stream",
     "text": [
      "CPU times: user 508 ms, sys: 193 μs, total: 508 ms\n",
      "Wall time: 511 ms\n"
     ]
    },
    {
     "data": {
      "text/html": [
       "<div>\n",
       "<style scoped>\n",
       "    .dataframe tbody tr th:only-of-type {\n",
       "        vertical-align: middle;\n",
       "    }\n",
       "\n",
       "    .dataframe tbody tr th {\n",
       "        vertical-align: top;\n",
       "    }\n",
       "\n",
       "    .dataframe thead th {\n",
       "        text-align: right;\n",
       "    }\n",
       "</style>\n",
       "<table border=\"1\" class=\"dataframe\">\n",
       "  <thead>\n",
       "    <tr style=\"text-align: right;\">\n",
       "      <th></th>\n",
       "      <th>Atributes</th>\n",
       "      <th>min</th>\n",
       "      <th>max</th>\n",
       "      <th>range</th>\n",
       "      <th>mean</th>\n",
       "      <th>median</th>\n",
       "      <th>std</th>\n",
       "      <th>skew</th>\n",
       "      <th>kurotosis</th>\n",
       "    </tr>\n",
       "  </thead>\n",
       "  <tbody>\n",
       "    <tr>\n",
       "      <th>0</th>\n",
       "      <td>store</td>\n",
       "      <td>1.0</td>\n",
       "      <td>1115.0</td>\n",
       "      <td>1114.0</td>\n",
       "      <td>558.429727</td>\n",
       "      <td>558.0</td>\n",
       "      <td>321.908493</td>\n",
       "      <td>-0.000955</td>\n",
       "      <td>-1.200524</td>\n",
       "    </tr>\n",
       "    <tr>\n",
       "      <th>1</th>\n",
       "      <td>day_of_week</td>\n",
       "      <td>1.0</td>\n",
       "      <td>7.0</td>\n",
       "      <td>6.0</td>\n",
       "      <td>3.998341</td>\n",
       "      <td>4.0</td>\n",
       "      <td>1.997390</td>\n",
       "      <td>0.001593</td>\n",
       "      <td>-1.246873</td>\n",
       "    </tr>\n",
       "    <tr>\n",
       "      <th>2</th>\n",
       "      <td>sales</td>\n",
       "      <td>0.0</td>\n",
       "      <td>41551.0</td>\n",
       "      <td>41551.0</td>\n",
       "      <td>5773.818972</td>\n",
       "      <td>5744.0</td>\n",
       "      <td>3849.924283</td>\n",
       "      <td>0.641460</td>\n",
       "      <td>1.778375</td>\n",
       "    </tr>\n",
       "    <tr>\n",
       "      <th>3</th>\n",
       "      <td>customers</td>\n",
       "      <td>0.0</td>\n",
       "      <td>7388.0</td>\n",
       "      <td>7388.0</td>\n",
       "      <td>633.145946</td>\n",
       "      <td>609.0</td>\n",
       "      <td>464.411506</td>\n",
       "      <td>1.598650</td>\n",
       "      <td>7.091773</td>\n",
       "    </tr>\n",
       "    <tr>\n",
       "      <th>4</th>\n",
       "      <td>open</td>\n",
       "      <td>0.0</td>\n",
       "      <td>1.0</td>\n",
       "      <td>1.0</td>\n",
       "      <td>0.830107</td>\n",
       "      <td>1.0</td>\n",
       "      <td>0.375539</td>\n",
       "      <td>-1.758045</td>\n",
       "      <td>1.090723</td>\n",
       "    </tr>\n",
       "    <tr>\n",
       "      <th>5</th>\n",
       "      <td>promo</td>\n",
       "      <td>0.0</td>\n",
       "      <td>1.0</td>\n",
       "      <td>1.0</td>\n",
       "      <td>0.381515</td>\n",
       "      <td>0.0</td>\n",
       "      <td>0.485758</td>\n",
       "      <td>0.487838</td>\n",
       "      <td>-1.762018</td>\n",
       "    </tr>\n",
       "    <tr>\n",
       "      <th>6</th>\n",
       "      <td>school_holiday</td>\n",
       "      <td>0.0</td>\n",
       "      <td>1.0</td>\n",
       "      <td>1.0</td>\n",
       "      <td>0.178647</td>\n",
       "      <td>0.0</td>\n",
       "      <td>0.383056</td>\n",
       "      <td>1.677842</td>\n",
       "      <td>0.815154</td>\n",
       "    </tr>\n",
       "    <tr>\n",
       "      <th>7</th>\n",
       "      <td>competition_distance</td>\n",
       "      <td>20.0</td>\n",
       "      <td>200000.0</td>\n",
       "      <td>199980.0</td>\n",
       "      <td>5935.442677</td>\n",
       "      <td>2330.0</td>\n",
       "      <td>12547.646829</td>\n",
       "      <td>10.242344</td>\n",
       "      <td>147.789712</td>\n",
       "    </tr>\n",
       "    <tr>\n",
       "      <th>8</th>\n",
       "      <td>competition_open_since_month</td>\n",
       "      <td>1.0</td>\n",
       "      <td>12.0</td>\n",
       "      <td>11.0</td>\n",
       "      <td>6.786849</td>\n",
       "      <td>7.0</td>\n",
       "      <td>3.311085</td>\n",
       "      <td>-0.042076</td>\n",
       "      <td>-1.232607</td>\n",
       "    </tr>\n",
       "    <tr>\n",
       "      <th>9</th>\n",
       "      <td>competition_open_since_year</td>\n",
       "      <td>1900.0</td>\n",
       "      <td>2015.0</td>\n",
       "      <td>115.0</td>\n",
       "      <td>2010.324840</td>\n",
       "      <td>2012.0</td>\n",
       "      <td>5.515591</td>\n",
       "      <td>-7.235657</td>\n",
       "      <td>124.071304</td>\n",
       "    </tr>\n",
       "    <tr>\n",
       "      <th>10</th>\n",
       "      <td>promo2</td>\n",
       "      <td>0.0</td>\n",
       "      <td>1.0</td>\n",
       "      <td>1.0</td>\n",
       "      <td>0.500564</td>\n",
       "      <td>1.0</td>\n",
       "      <td>0.500000</td>\n",
       "      <td>-0.002255</td>\n",
       "      <td>-1.999999</td>\n",
       "    </tr>\n",
       "    <tr>\n",
       "      <th>11</th>\n",
       "      <td>promo2_since_week</td>\n",
       "      <td>1.0</td>\n",
       "      <td>52.0</td>\n",
       "      <td>51.0</td>\n",
       "      <td>23.619033</td>\n",
       "      <td>22.0</td>\n",
       "      <td>14.310057</td>\n",
       "      <td>0.178723</td>\n",
       "      <td>-1.184046</td>\n",
       "    </tr>\n",
       "    <tr>\n",
       "      <th>12</th>\n",
       "      <td>promo2_since_year</td>\n",
       "      <td>2009.0</td>\n",
       "      <td>2015.0</td>\n",
       "      <td>6.0</td>\n",
       "      <td>2012.793297</td>\n",
       "      <td>2013.0</td>\n",
       "      <td>1.662657</td>\n",
       "      <td>-0.784436</td>\n",
       "      <td>-0.210075</td>\n",
       "    </tr>\n",
       "    <tr>\n",
       "      <th>13</th>\n",
       "      <td>is_promo</td>\n",
       "      <td>0.0</td>\n",
       "      <td>1.0</td>\n",
       "      <td>1.0</td>\n",
       "      <td>0.129205</td>\n",
       "      <td>0.0</td>\n",
       "      <td>0.335426</td>\n",
       "      <td>2.210895</td>\n",
       "      <td>2.888063</td>\n",
       "    </tr>\n",
       "  </tbody>\n",
       "</table>\n",
       "</div>"
      ],
      "text/plain": [
       "                       Atributes     min       max     range         mean  median           std       skew   kurotosis\n",
       "0                          store     1.0    1115.0    1114.0   558.429727   558.0    321.908493  -0.000955   -1.200524\n",
       "1                    day_of_week     1.0       7.0       6.0     3.998341     4.0      1.997390   0.001593   -1.246873\n",
       "2                          sales     0.0   41551.0   41551.0  5773.818972  5744.0   3849.924283   0.641460    1.778375\n",
       "3                      customers     0.0    7388.0    7388.0   633.145946   609.0    464.411506   1.598650    7.091773\n",
       "4                           open     0.0       1.0       1.0     0.830107     1.0      0.375539  -1.758045    1.090723\n",
       "5                          promo     0.0       1.0       1.0     0.381515     0.0      0.485758   0.487838   -1.762018\n",
       "6                 school_holiday     0.0       1.0       1.0     0.178647     0.0      0.383056   1.677842    0.815154\n",
       "7           competition_distance    20.0  200000.0  199980.0  5935.442677  2330.0  12547.646829  10.242344  147.789712\n",
       "8   competition_open_since_month     1.0      12.0      11.0     6.786849     7.0      3.311085  -0.042076   -1.232607\n",
       "9    competition_open_since_year  1900.0    2015.0     115.0  2010.324840  2012.0      5.515591  -7.235657  124.071304\n",
       "10                        promo2     0.0       1.0       1.0     0.500564     1.0      0.500000  -0.002255   -1.999999\n",
       "11             promo2_since_week     1.0      52.0      51.0    23.619033    22.0     14.310057   0.178723   -1.184046\n",
       "12             promo2_since_year  2009.0    2015.0       6.0  2012.793297  2013.0      1.662657  -0.784436   -0.210075\n",
       "13                      is_promo     0.0       1.0       1.0     0.129205     0.0      0.335426   2.210895    2.888063"
      ]
     },
     "execution_count": 17,
     "metadata": {},
     "output_type": "execute_result"
    }
   ],
   "source": [
    "%%time\n",
    "# Central Tenedency - mean, median\n",
    "ct1 = (pd.DataFrame(num_attributes.apply(np.mean)).T)\n",
    "ct2 = (pd.DataFrame(num_attributes.apply(np.median)).T)\n",
    "\n",
    "# Description - std, min, max, range, skew, kurtosis\n",
    "\n",
    "d1 = pd.DataFrame(num_attributes.apply( np.std )).T\n",
    "d2 = pd.DataFrame(num_attributes.apply( np.min )).T\n",
    "d3 = pd.DataFrame(num_attributes.apply( np.max )).T\n",
    "d4 = pd.DataFrame(num_attributes.apply( lambda x: np.max(x) - np.min(x) )).T\n",
    "d5 = pd.DataFrame(num_attributes.apply( lambda x: x.skew() )).T\n",
    "d6 = pd.DataFrame(num_attributes.apply( lambda x: x.kurtosis() )).T\n",
    "\n",
    "# concatenate\n",
    "\n",
    "met = pd.concat([d2, d3, d4, ct1, ct2, d1, d5, d6]).T.reset_index()\n",
    "met.columns = ['Atributes', 'min','max','range','mean','median','std','skew','kurotosis']\n",
    "met"
   ]
  },
  {
   "cell_type": "code",
   "execution_count": 18,
   "id": "f8cbc6c6",
   "metadata": {},
   "outputs": [
    {
     "name": "stderr",
     "output_type": "stream",
     "text": [
      "/tmp/ipykernel_245015/2697858400.py:1: UserWarning: \n",
      "\n",
      "`distplot` is a deprecated function and will be removed in seaborn v0.14.0.\n",
      "\n",
      "Please adapt your code to use either `displot` (a figure-level function with\n",
      "similar flexibility) or `histplot` (an axes-level function for histograms).\n",
      "\n",
      "For a guide to updating your code to use the new functions, please see\n",
      "https://gist.github.com/mwaskom/de44147ed2974457ad6372750bbe5751\n",
      "\n",
      "  sns.distplot( df1['competition_distance'])\n"
     ]
    },
    {
     "data": {
      "text/plain": [
       "<Axes: xlabel='competition_distance', ylabel='Density'>"
      ]
     },
     "execution_count": 18,
     "metadata": {},
     "output_type": "execute_result"
    },
    {
     "data": {
      "image/png": "[encoded data removed]",
      "text/plain": [
       "<Figure size 2500x1200 with 1 Axes>"
      ]
     },
     "metadata": {},
     "output_type": "display_data"
    }
   ],
   "source": [
    "sns.distplot( df1['competition_distance'])"
   ]
  },
  {
   "cell_type": "markdown",
   "id": "40da78ef",
   "metadata": {
    "jp-MarkdownHeadingCollapsed": true
   },
   "source": [
    "### 1.7.2 Categorical Attributes"
   ]
  },
  {
   "cell_type": "code",
   "execution_count": 19,
   "id": "5d4720b2",
   "metadata": {},
   "outputs": [
    {
     "data": {
      "text/plain": [
       "state_holiday      4\n",
       "store_type         4\n",
       "assortment         3\n",
       "promo_interval     4\n",
       "month_map         12\n",
       "dtype: int64"
      ]
     },
     "execution_count": 19,
     "metadata": {},
     "output_type": "execute_result"
    }
   ],
   "source": [
    "cat_attributes.apply(lambda x: x.unique())\n",
    "cat_attributes.apply(lambda x: x.unique().shape[0])\n"
   ]
  },
  {
   "cell_type": "code",
   "execution_count": 20,
   "id": "6b983675",
   "metadata": {},
   "outputs": [
    {
     "data": {
      "text/plain": [
       "<Axes: xlabel='assortment', ylabel='sales'>"
      ]
     },
     "execution_count": 20,
     "metadata": {},
     "output_type": "execute_result"
    },
    {
     "data": {
      "image/png": "[encoded data removed]",
      "text/plain": [
       "<Figure size 2500x1200 with 3 Axes>"
      ]
     },
     "metadata": {},
     "output_type": "display_data"
    }
   ],
   "source": [
    "aux1 = df1[(df1['state_holiday'] != '0') & (df1['sales'] > 0)]\n",
    "\n",
    "plt.subplot(1,3,1)\n",
    "sns.boxplot( x= 'state_holiday', y= 'sales', data = aux1)\n",
    "\n",
    "plt.subplot(1,3,2)\n",
    "sns.boxplot(x= 'store_type', y = 'sales', data = aux1)\n",
    "\n",
    "plt.subplot(1,3,3)\n",
    "sns.boxplot(x= 'assortment', y = 'sales', data = aux1)\n",
    "\n"
   ]
  },
  {
   "cell_type": "markdown",
   "id": "7a8f81d6",
   "metadata": {},
   "source": [
    "# 2.0 Passo 2- Feature Engineering"
   ]
  },
  {
   "cell_type": "code",
   "execution_count": 21,
   "id": "dff9af39-e2fd-4137-a70b-6df18fce169b",
   "metadata": {},
   "outputs": [],
   "source": [
    "df2 = df1.copy()"
   ]
  },
  {
   "cell_type": "markdown",
   "id": "b670ce76-1eea-4b09-93ff-5cba2590b97b",
   "metadata": {
    "jp-MarkdownHeadingCollapsed": true
   },
   "source": [
    "## 2.0.1 Negócio"
   ]
  },
  {
   "cell_type": "code",
   "execution_count": 22,
   "id": "ecec4773-d9d3-4364-90d4-6eb5efcefe57",
   "metadata": {},
   "outputs": [
    {
     "data": {
      "image/png": "[encoded data removed]",
      "text/plain": [
       "<IPython.core.display.Image object>"
      ]
     },
     "execution_count": 22,
     "metadata": {},
     "output_type": "execute_result"
    }
   ],
   "source": [
    "Image( 'img/imagem_hipoteses.png')"
   ]
  },
  {
   "cell_type": "markdown",
   "id": "1e07e4da",
   "metadata": {},
   "source": [
    "## 2.1 Criação das Hipóteses"
   ]
  },
  {
   "cell_type": "markdown",
   "id": "fda61698-5308-4a2f-8ae2-30e8e95d1486",
   "metadata": {
    "jp-MarkdownHeadingCollapsed": true
   },
   "source": [
    "### 2.1.1 Hipóteses Loja"
   ]
  },
  {
   "cell_type": "markdown",
   "id": "1cf85752-59bf-4374-ade2-bc94f8349197",
   "metadata": {},
   "source": [
    "**1.** Lojas com maior quadro de funcionários deveriam vender mais.\n",
    "\n",
    "**2.** Lojas com maior estoque deveriam vender mais.\n",
    "\n",
    "**3.** Lojas com maior tamanho deveriam vender mais.\n",
    "\n",
    "**4.** Lojas com menor porte deveriam vender menos.\n",
    "\n",
    "**5.** Lojas com maior sortimento deveriam vender mais.\n",
    "\n",
    "**6.** Lojas com competidores mais próximos deveriam vender menos.\n",
    "\n",
    "**7.** Lojas com competidores a mais tempo deveriam vender mais"
   ]
  },
  {
   "cell_type": "markdown",
   "id": "2ad0cb38-4f12-437e-85a0-6c2da5f7842c",
   "metadata": {
    "jp-MarkdownHeadingCollapsed": true
   },
   "source": [
    "### 2.1.2 Hipóteses Produto"
   ]
  },
  {
   "cell_type": "markdown",
   "id": "f75cb9c3-aa1e-4dba-a494-8d530af397d8",
   "metadata": {},
   "source": [
    "**1.** Lojas que investem mais em marketing deveriam vender mais.\n",
    "\n",
    "**2.** Lojas que expoe mais o produto em vitrine deveriam vender mais.\n",
    "\n",
    "**3.** Lojas que tem preços menores deveriam vender mais.\n",
    "\n",
    "**4.** Lojas com promoções ativas por mais tempo deveriam vender mais.\n",
    "\n",
    "**6.** Lojas com promoções mais agressivas (descontos maiores) deveriam vender mais.\n",
    "\n",
    "**7.** Lojas com mais dias de promoção deveriam vender mais.\n",
    "\n",
    "**8.** Lojas com mais promoções consecutivas deveriam vender mais."
   ]
  },
  {
   "cell_type": "markdown",
   "id": "931bc8fa-0f61-4c92-b251-6ee7946fa10f",
   "metadata": {
    "jp-MarkdownHeadingCollapsed": true
   },
   "source": [
    "### 2.1.3 Hipóteses Tempo"
   ]
  },
  {
   "cell_type": "markdown",
   "id": "3d49914c-dd2b-4664-83a6-afa4f5688ac0",
   "metadata": {},
   "source": [
    "**1.** Lojas que fecham nos feriados deveriam vender menos.\n",
    "\n",
    "**2.** Lojas que abrem nos primeiros 6 meses deveriam vender mais.\n",
    "\n",
    "**3.** Lojas que abrem nos finais de semana deveriam vender mais.\n",
    "\n",
    "**4.** Lojas abertas durante o feriado de natal deveriam vender mais.\n",
    "\n",
    "**5.** Lojas deveriam vender mais depois do dia 10 de cada mês.\n",
    "\n",
    "**6.** Lojas deveriam vender menos durante feriados escolares"
   ]
  },
  {
   "cell_type": "markdown",
   "id": "0f40b37c-7343-4448-8c31-b8b3e96401c4",
   "metadata": {
    "jp-MarkdownHeadingCollapsed": true
   },
   "source": [
    "## 2.2 Lista Final de Hipóteses"
   ]
  },
  {
   "cell_type": "markdown",
   "id": "eebde922-4c87-4803-8064-ce4164489fc0",
   "metadata": {},
   "source": [
    "**1.** Lojas com maior sortimento deveriam vender mais.\n",
    "\n",
    "**2.** Lojas com competidores mais proximos deveriam vender menos.\n",
    "\n",
    "**3.** Lojas com competidores a mais tempo deveriam vender mais."
   ]
  },
  {
   "cell_type": "markdown",
   "id": "7c953d8c-d5b1-447b-b049-a12862e22d9d",
   "metadata": {},
   "source": [
    "**4.** Lojas com promoções ativas por mais tempo deveriam vender mais.\n",
    "\n",
    "**5.** Lojas com mais dias de promoção deveriam vender mais.\n",
    "\n",
    "**6.** Lojas com mais promoções concecutivas deveriam vender mais."
   ]
  },
  {
   "cell_type": "markdown",
   "id": "22b8a239-3d52-4c66-9425-e5a79d4da4b6",
   "metadata": {},
   "source": [
    "**7.** Lojas que fecham nos feriados deveriam vender menos.\n",
    "\n",
    "**8.** Lojas que abrem nos primeiros 6 meses deveriam vender mais.\n",
    "\n",
    "**9.** Lojas que abrem nos finais de semana deveriam vender mais.\n",
    "\n",
    "**10.** Lojas abertas durante o feriado de natal deveriam vender mais.\n",
    "\n",
    "**11.** Lojas deveriam vender mais depois do dia 10 de cada mês.\n",
    "\n",
    "**12.** Lojas deveriam vender menos durante feriados escolares"
   ]
  },
  {
   "cell_type": "markdown",
   "id": "20034dfe",
   "metadata": {},
   "source": [
    "## 2.3 Feature Engeneering"
   ]
  },
  {
   "cell_type": "code",
   "execution_count": 23,
   "id": "e2f9ee62-19c8-40cb-a57f-ea7a98ce3c57",
   "metadata": {},
   "outputs": [],
   "source": [
    "df1.head(1)\n",
    "df2 = df1.copy()"
   ]
  },
  {
   "cell_type": "code",
   "execution_count": 24,
   "id": "dca912e5-57f6-451e-b4ef-d9a263961853",
   "metadata": {},
   "outputs": [
    {
     "name": "stdout",
     "output_type": "stream",
     "text": [
      "CPU times: user 54 s, sys: 1.21 s, total: 55.2 s\n",
      "Wall time: 55.2 s\n"
     ]
    }
   ],
   "source": [
    "%%time\n",
    "\n",
    "df2 = df1.copy()\n",
    "# year\n",
    "df2['year'] = df2['date'].dt.year\n",
    "\n",
    "# month\n",
    "df2['month'] = df2['date'].dt.month\n",
    "\n",
    "# day\n",
    "df2['day'] = df2['date'].dt.day\n",
    "\n",
    "# week of year\n",
    "df2['year_week'] = df2['date'].dt.strftime( \"%Y-%W\")\n",
    "\n",
    "# competition_since\n",
    "df2['competition_since'] = df2.apply(lambda x: datetime.datetime(year =x['competition_open_since_year'], month= x['competition_open_since_month'], day= 1), axis=1)\n",
    "df2['competition_time_month'] = ((df2['date'] - df2['competition_since'])/30).apply(lambda x: x.days).astype(int)\n",
    "\n",
    "# promo_since\n",
    "df2['promo_since'] = df2['promo2_since_year'].astype(str) + '-' + df2['promo2_since_week'].astype(str)\n",
    "df2['promo_since'] = df2['promo_since'].apply(lambda x: datetime.datetime.strptime(x+'-1', '%Y-%W-%w')- datetime.timedelta(days=7))\n",
    "df2['promo_time_week'] = ((df2['date'] - df2['promo_since'])/7).apply(lambda x: x.days).astype(int)\n",
    "\n",
    "# assortment\n",
    "df2['assortment'] = df2['assortment'].apply( lambda x: 'basic' if x == 'a' else 'extra' if x=='b' else 'extended' if x=='c' else x)\n",
    "\n",
    "# state holiday\n",
    "dict_state_holida= {'a':'public_holiday',\n",
    "                   'b':'easter_holiday',\n",
    "                   'c':'christmas',\n",
    "                   'd':'regular_day',\n",
    "                    '0':'regular_day'}\n",
    "\n",
    "df2['state_holiday'] = df2['state_holiday'].map(dict_state_holida)"
   ]
  },
  {
   "cell_type": "markdown",
   "id": "aaeec22c-e215-42d7-ac19-4c65f86fd700",
   "metadata": {
    "jp-MarkdownHeadingCollapsed": true
   },
   "source": [
    "# 3.0 Passo 3- Filtragem de Variáveis"
   ]
  },
  {
   "cell_type": "code",
   "execution_count": 28,
   "id": "694d76bf-30c7-4a83-bfb4-b75ba129cf90",
   "metadata": {},
   "outputs": [
    {
     "data": {
      "text/html": [
       "<div>\n",
       "<style scoped>\n",
       "    .dataframe tbody tr th:only-of-type {\n",
       "        vertical-align: middle;\n",
       "    }\n",
       "\n",
       "    .dataframe tbody tr th {\n",
       "        vertical-align: top;\n",
       "    }\n",
       "\n",
       "    .dataframe thead th {\n",
       "        text-align: right;\n",
       "    }\n",
       "</style>\n",
       "<table border=\"1\" class=\"dataframe\">\n",
       "  <thead>\n",
       "    <tr style=\"text-align: right;\">\n",
       "      <th></th>\n",
       "      <th>store</th>\n",
       "      <th>day_of_week</th>\n",
       "      <th>date</th>\n",
       "      <th>sales</th>\n",
       "      <th>customers</th>\n",
       "      <th>open</th>\n",
       "      <th>promo</th>\n",
       "      <th>state_holiday</th>\n",
       "      <th>school_holiday</th>\n",
       "      <th>store_type</th>\n",
       "      <th>assortment</th>\n",
       "      <th>competition_distance</th>\n",
       "      <th>competition_open_since_month</th>\n",
       "      <th>competition_open_since_year</th>\n",
       "      <th>promo2</th>\n",
       "      <th>promo2_since_week</th>\n",
       "      <th>promo2_since_year</th>\n",
       "      <th>promo_interval</th>\n",
       "      <th>month_map</th>\n",
       "      <th>is_promo</th>\n",
       "      <th>year</th>\n",
       "      <th>month</th>\n",
       "      <th>day</th>\n",
       "      <th>year_week</th>\n",
       "      <th>competition_since</th>\n",
       "      <th>competition_time_month</th>\n",
       "      <th>promo_since</th>\n",
       "      <th>promo_time_week</th>\n",
       "    </tr>\n",
       "  </thead>\n",
       "  <tbody>\n",
       "    <tr>\n",
       "      <th>0</th>\n",
       "      <td>1</td>\n",
       "      <td>5</td>\n",
       "      <td>2015-07-31</td>\n",
       "      <td>5263</td>\n",
       "      <td>555</td>\n",
       "      <td>1</td>\n",
       "      <td>1</td>\n",
       "      <td>NaN</td>\n",
       "      <td>1</td>\n",
       "      <td>c</td>\n",
       "      <td>basic</td>\n",
       "      <td>1270.0</td>\n",
       "      <td>9</td>\n",
       "      <td>2008</td>\n",
       "      <td>0</td>\n",
       "      <td>31</td>\n",
       "      <td>2015</td>\n",
       "      <td>0</td>\n",
       "      <td>Jul</td>\n",
       "      <td>0</td>\n",
       "      <td>2015</td>\n",
       "      <td>7</td>\n",
       "      <td>31</td>\n",
       "      <td>2015-30</td>\n",
       "      <td>2008-09-01</td>\n",
       "      <td>84</td>\n",
       "      <td>2015-07-27</td>\n",
       "      <td>0</td>\n",
       "    </tr>\n",
       "    <tr>\n",
       "      <th>1</th>\n",
       "      <td>2</td>\n",
       "      <td>5</td>\n",
       "      <td>2015-07-31</td>\n",
       "      <td>6064</td>\n",
       "      <td>625</td>\n",
       "      <td>1</td>\n",
       "      <td>1</td>\n",
       "      <td>NaN</td>\n",
       "      <td>1</td>\n",
       "      <td>a</td>\n",
       "      <td>basic</td>\n",
       "      <td>570.0</td>\n",
       "      <td>11</td>\n",
       "      <td>2007</td>\n",
       "      <td>1</td>\n",
       "      <td>13</td>\n",
       "      <td>2010</td>\n",
       "      <td>Jan,Apr,Jul,Oct</td>\n",
       "      <td>Jul</td>\n",
       "      <td>1</td>\n",
       "      <td>2015</td>\n",
       "      <td>7</td>\n",
       "      <td>31</td>\n",
       "      <td>2015-30</td>\n",
       "      <td>2007-11-01</td>\n",
       "      <td>94</td>\n",
       "      <td>2010-03-22</td>\n",
       "      <td>279</td>\n",
       "    </tr>\n",
       "  </tbody>\n",
       "</table>\n",
       "</div>"
      ],
      "text/plain": [
       "   store  day_of_week       date  sales  customers  open  promo state_holiday  school_holiday store_type assortment  competition_distance  competition_open_since_month  competition_open_since_year  promo2  promo2_since_week  promo2_since_year   promo_interval month_map  is_promo  year  month  day year_week competition_since  competition_time_month promo_since  promo_time_week\n",
       "0      1            5 2015-07-31   5263        555     1      1           NaN               1          c      basic                1270.0                             9                         2008       0                 31               2015                0       Jul         0  2015      7   31   2015-30        2008-09-01                      84  2015-07-27                0\n",
       "1      2            5 2015-07-31   6064        625     1      1           NaN               1          a      basic                 570.0                            11                         2007       1                 13               2010  Jan,Apr,Jul,Oct       Jul         1  2015      7   31   2015-30        2007-11-01                      94  2010-03-22              279"
      ]
     },
     "execution_count": 28,
     "metadata": {},
     "output_type": "execute_result"
    }
   ],
   "source": [
    "df3 = df2.copy()\n",
    "df3.head(2)"
   ]
  },
  {
   "cell_type": "markdown",
   "id": "aba8f226-6769-4e67-8713-6470df31f526",
   "metadata": {
    "jp-MarkdownHeadingCollapsed": true
   },
   "source": [
    "## 3.1 Filtragem de Linhas "
   ]
  },
  {
   "cell_type": "code",
   "execution_count": 29,
   "id": "2f2b49c9-86ca-48c1-9c4b-78abf465309c",
   "metadata": {},
   "outputs": [],
   "source": [
    "df3 = df3[ (df3['open'] != 0) & (df3['sales'] > 1) ]\n"
   ]
  },
  {
   "cell_type": "markdown",
   "id": "0288eb4f-9b31-4e18-9a5c-26f569143e86",
   "metadata": {
    "jp-MarkdownHeadingCollapsed": true
   },
   "source": [
    "## 3.2 Seleção de colunas"
   ]
  },
  {
   "cell_type": "code",
   "execution_count": 30,
   "id": "674a4bc7-e8f5-4481-99a3-101bb9e5c114",
   "metadata": {},
   "outputs": [],
   "source": [
    "cols_drop = ['customers', 'open', 'promo_interval', 'month_map'] \n",
    "df3 = df3.drop (cols_drop, axis =1 )"
   ]
  },
  {
   "cell_type": "markdown",
   "id": "0aba1caf-5798-4814-afd9-1c3ebd85d92a",
   "metadata": {},
   "source": [
    "# 4.0 Passo 4- Análise Exploratória de Dados"
   ]
  },
  {
   "cell_type": "code",
   "execution_count": 31,
   "id": "4da7c235-ff00-467c-82f8-1f8b21e5f83a",
   "metadata": {},
   "outputs": [],
   "source": [
    "df4 = df3.copy()"
   ]
  },
  {
   "cell_type": "markdown",
   "id": "152a0064-164b-4298-bdbe-f14662a10d92",
   "metadata": {},
   "source": [
    "## 4.1 Analise Univariada "
   ]
  },
  {
   "cell_type": "markdown",
   "id": "07fc49e7-2ca6-481b-a956-28473b13f560",
   "metadata": {
    "jp-MarkdownHeadingCollapsed": true
   },
   "source": [
    "### 4.1.1 Response Variable "
   ]
  },
  {
   "cell_type": "code",
   "execution_count": null,
   "id": "6984580a-efcf-4523-973b-e84b7cc08815",
   "metadata": {},
   "outputs": [],
   "source": [
    "sns.histplot(df4['sales'])"
   ]
  },
  {
   "cell_type": "markdown",
   "id": "f90b8b4e-0993-4cb4-a816-ac78bbcdacd2",
   "metadata": {
    "jp-MarkdownHeadingCollapsed": true
   },
   "source": [
    "### 4.1.2 Numerical Variable"
   ]
  },
  {
   "cell_type": "code",
   "execution_count": null,
   "id": "a7142821-fc01-4a80-aa8e-231e838db874",
   "metadata": {},
   "outputs": [],
   "source": [
    "num_attributes = df4.select_dtypes(include = ['int64', 'float64', 'int32'])\n",
    "cat_attributes = df4.select_dtypes(exclude = ['int64', 'float64', 'int32', 'datetime64[ns]'])"
   ]
  },
  {
   "cell_type": "code",
   "execution_count": null,
   "id": "c74bb910-b407-4a85-8459-fa3d465e20a1",
   "metadata": {},
   "outputs": [],
   "source": [
    "dfaux = df4.loc[:,['day_of_week','sales']].groupby('day_of_week').sum().reset_index()\n",
    "plt.figure(figsize = (4,2))\n",
    "sns.barplot(x='day_of_week', y='sales', data=dfaux);"
   ]
  },
  {
   "cell_type": "code",
   "execution_count": null,
   "id": "59d1f4cd-ca22-4f50-9001-a66be535017d",
   "metadata": {},
   "outputs": [],
   "source": [
    "num_attributes.hist(bins = 30);"
   ]
  },
  {
   "cell_type": "markdown",
   "id": "258767e3-7393-411c-8c6f-4432eedfd131",
   "metadata": {
    "jp-MarkdownHeadingCollapsed": true
   },
   "source": [
    "### 4.1.3 Categorical Variale"
   ]
  },
  {
   "cell_type": "code",
   "execution_count": null,
   "id": "313259d0-bf3d-46be-bca2-737b49cdbe2e",
   "metadata": {},
   "outputs": [],
   "source": [
    "# sns.set_palette('deep')\n",
    "\n",
    "# state_holiday\n",
    "plt.subplot(3, 2, 1)\n",
    "a = df4[df4['state_holiday']!= 'regular_day']\n",
    "sns.countplot(x=a['state_holiday'], hue = a['state_holiday'])\n",
    "\n",
    "plt.subplot(3, 2, 2)\n",
    "sns.kdeplot(df4[df4['state_holiday']=='public_holiday']['sales'], label = 'public_holiday', fill = True, alpha = 0.6)\n",
    "sns.kdeplot(df4[df4['state_holiday']=='easter_holiday']['sales'], label = \"easter_holiday\", fill = True, alpha = 0.6)\n",
    "sns.kdeplot(df4[df4['state_holiday']=='christmas']['sales'], label = \"christmas\", fill = True, alpha = 0.6)\n",
    "plt.legend()\n",
    "\n",
    "# store_type\n",
    "plt.subplot(3, 2, 3)\n",
    "sns.countplot(x=df4['store_type'], hue = df4['store_type'])\n",
    "\n",
    "plt.subplot(3, 2, 4)\n",
    "sns.kdeplot(df4[df4['store_type']=='a']['sales'], label = 'a', fill = True, alpha = 0.5)\n",
    "sns.kdeplot(df4[df4['store_type']=='b']['sales'], label = \"b\", fill = True, alpha = 0.5)\n",
    "sns.kdeplot(df4[df4['store_type']=='c']['sales'], label = \"c\", fill = True, alpha = 0.5)\n",
    "sns.kdeplot(df4[df4['store_type']=='d']['sales'], label = \"d\", fill = True, alpha = 0.5)\n",
    "plt.legend()\n",
    "\n",
    "# assortment\n",
    "plt.subplot(3, 2, 5)\n",
    "sns.countplot(x=df4['assortment'], hue = df4['assortment'])\n",
    "\n",
    "plt.subplot(3, 2, 6)\n",
    "sns.kdeplot(df4[df4['assortment']=='basic']['sales'], label = 'basic', fill = True, alpha = 0.5)\n",
    "sns.kdeplot(df4[df4['assortment']=='extended']['sales'], label = \"extended\", fill = True, alpha = 0.5)\n",
    "sns.kdeplot(df4[df4['assortment']=='extra']['sales'], label = \"extra\", fill = True, alpha = 0.5)\n",
    "plt.legend();\n"
   ]
  },
  {
   "cell_type": "markdown",
   "id": "1a09e874-8508-4a3c-8460-118857091c4d",
   "metadata": {
    "jp-MarkdownHeadingCollapsed": true
   },
   "source": [
    "## 4.2 Análise Bivariada"
   ]
  },
  {
   "cell_type": "markdown",
   "id": "8969cf35-fe1c-4b13-915e-48ee87774418",
   "metadata": {
    "jp-MarkdownHeadingCollapsed": true
   },
   "source": [
    "### H1 Lojas com maior sortimento deveriam vender mais.\n",
    "**VERDADEIRA** Lojas com sortimento extra e extended tem medias de venda maior, mas tem uma menor quantidade de lojas se comparadas com o tipo basic"
   ]
  },
  {
   "cell_type": "code",
   "execution_count": null,
   "id": "0b31aee4-225f-412f-b048-fb2886c23ca8",
   "metadata": {
    "jupyter": {
     "source_hidden": true
    }
   },
   "outputs": [],
   "source": [
    "# 'basic', 'extended', 'extra'\n",
    "plt.subplot(2,3,1)\n",
    "plt.title('Vendas Médias em cada tipo de loja', size = 22)\n",
    "plt.xlabel('Tipo de loja', size = 0.0001)\n",
    "plt.ylabel('Vendas', size = 15)\n",
    "comp_sort = df4.loc[:,['assortment', 'sales']].groupby('assortment').mean('sales').reset_index()\n",
    "comp_sort['sales'] = [round(num, 2) for num in comp_sort['sales']]\n",
    "sns.barplot(x ='assortment', y= 'sales', data = comp_sort, hue = 'assortment');\n",
    "\n",
    "plt.subplot(2,3,2)\n",
    "plt.title('Distribuição de lojas por tipo', size = 22)\n",
    "plt.xlabel('Tipo de loja', size = 0.0001)\n",
    "plt.ylabel('Quantidade', size = 15)\n",
    "comp_sort = df4.loc[:,['assortment', 'store']].groupby('assortment').nunique().reset_index()\n",
    "sns.barplot(x='assortment',y ='store', data = comp_sort, hue = 'assortment')\n",
    "\n",
    "plt.subplot(2,3,3)\n",
    "plt.title('Soma de vendas por tipo de loja', size = 22)\n",
    "plt.xlabel('Tipo de loja', size = 0.0001)\n",
    "plt.ylabel('Vendas', size = 15)\n",
    "comp_sort = df4.loc[:,['assortment', 'sales']].groupby('assortment').sum('sales').reset_index()\n",
    "comp_sort['sales'] = [round(num, 2) for num in comp_sort['sales']]\n",
    "sns.barplot(x ='assortment', y= 'sales', data = comp_sort, hue = 'assortment');"
   ]
  },
  {
   "cell_type": "markdown",
   "id": "c63dd1a6-3fd2-4408-9af4-051f109d812d",
   "metadata": {
    "jp-MarkdownHeadingCollapsed": true
   },
   "source": [
    "### H2 Lojas com competidores mais proximos deveriam vender menos.\n",
    "**FALSA** Lojas com competidores de distintas distâncias tem uma mediana de vendas muito similar."
   ]
  },
  {
   "cell_type": "code",
   "execution_count": null,
   "id": "51447ab8-67d1-4d0e-82a5-7526f173c5a9",
   "metadata": {},
   "outputs": [],
   "source": [
    "aux1 = df4[['competition_distance', 'sales']].groupby('competition_distance').median().reset_index()\n",
    "\n",
    "bins = list(np.arange(0,20001,1000))\n",
    "\n",
    "aux1['cd_bins'] = pd.cut(aux1['competition_distance'], bins = bins)\n",
    "\n",
    "aux2 = aux1[['cd_bins', 'sales']].groupby('cd_bins',observed=True).median(\"sales\").reset_index()\n",
    "\n",
    "sns.barplot(x='cd_bins',y='sales', data = aux1, hue = 'cd_bins' )\n",
    "plt.legend().remove()\n",
    "plt.xticks(rotation = 90);"
   ]
  },
  {
   "cell_type": "markdown",
   "id": "b12a950b-e295-4e93-a016-c6ac33ff46e8",
   "metadata": {
    "jp-MarkdownHeadingCollapsed": true
   },
   "source": [
    "### H3 Lojas com competidores a mais tempo deveriam vender menos.\n",
    "**FALSA** Lojas com competidores a pouco tempo tendem a ter uma diminuição das vendas porém após 150 semanas é possivel ver uma dispersão positiva entre os dados, que pode demonstrar uma dominância local ou estabilidade nas vendas."
   ]
  },
  {
   "cell_type": "code",
   "execution_count": null,
   "id": "3c10b453-c0af-4726-956b-6cf9bfc01229",
   "metadata": {
    "jupyter": {
     "source_hidden": true
    }
   },
   "outputs": [],
   "source": [
    "dfaux1 = (df4.loc[(df4['competition_time_month']>=-36)&(df4['competition_time_month']<=240) ,['competition_time_month', 'sales']]\n",
    "         .groupby('competition_time_month')\n",
    "         .median()\n",
    "         .reset_index())\n",
    "\n",
    "bins = list(np.arange(-36,241,6))\n",
    "dfaux1['cd_bins'] = pd.cut(dfaux1['competition_time_month'], bins = bins)\n",
    "\n",
    "plt.subplot(2,2,1)\n",
    "sns.barplot(x='cd_bins', y= \"sales\", data = dfaux1, hue = 'cd_bins')\n",
    "plt.xticks(rotation=90);\n",
    "plt.legend().remove()\n",
    "\n",
    "dfaux2 = (df4.loc[(df4['competition_time_month']>=-50)&(df4['competition_time_month']<400) ,['competition_time_month', 'sales']]\n",
    "         .groupby('competition_time_month')\n",
    "         .median()\n",
    "         .reset_index())\n",
    "\n",
    "plt.subplot(2,2,2)\n",
    "x = sns.heatmap(dfaux2.corr(method='pearson'), annot = True)\n",
    "\n",
    "plt.subplot(2,2,3)\n",
    "sns.regplot(x='competition_time_month', y='sales', data=dfaux2, order=2, color='red');\n",
    "\n",
    "plt.subplot(2,2,4)\n",
    "# Adicionar linha de tendência polinomial de grau 2\n",
    "sns.regplot(x='competition_time_month', y='sales', data=dfaux2, order=3, color='blue')\n"
   ]
  },
  {
   "cell_type": "markdown",
   "id": "7923fd7e-1046-4289-98ab-86860d28cf68",
   "metadata": {
    "jp-MarkdownHeadingCollapsed": true
   },
   "source": [
    "### H4 Lojas com promoções ativas por mais tempo deveriam vender mais.\n",
    "***VERDADEIRA*** Lojas com promoção ativa a mais tempo tendem a ter mais vendas na mediana"
   ]
  },
  {
   "cell_type": "code",
   "execution_count": null,
   "id": "5218b503-d6d1-44c3-8eae-52e77b00b9a7",
   "metadata": {
    "jupyter": {
     "source_hidden": true
    }
   },
   "outputs": [],
   "source": [
    "colunas_promo =  [coluna for coluna in list(df4.columns) if 'promo' in coluna ]\n",
    "colunas_promo.insert(0,'date')\n",
    "colunas_promo.insert(2,'sales')\n",
    "colunas_promo.insert(3,'year_week')\n",
    "\n",
    "df_promo = df4[colunas_promo]"
   ]
  },
  {
   "cell_type": "code",
   "execution_count": null,
   "id": "50bf5f78-e448-4d9c-b02f-095a01871a4a",
   "metadata": {
    "jupyter": {
     "source_hidden": true
    }
   },
   "outputs": [],
   "source": [
    "dfaux1 = df_promo.loc[df_promo['promo_time_week']>=0, ['promo_time_week', 'sales']].groupby('promo_time_week').median().reset_index()\n",
    "bins = list(np.arange(0,321, 10))\n",
    "dfaux1['promo_bins'] = pd.cut(dfaux1['promo_time_week'], bins = bins)\n",
    "\n",
    "dfaux2 = df_promo.loc[df_promo['promo_time_week']<=0, ['promo_time_week', 'sales']].groupby('promo_time_week').median().reset_index()\n",
    "# dfaux2['promo_time_week'] = np.abs(dfaux2['promo_time_week'])\n",
    "\n",
    "plt.figure(figsize=(24, 12)) \n",
    "grid = GridSpec(2,3)\n",
    "\n",
    "plt.subplot(grid[0,0])\n",
    "# plt.bar(dfaux1['promo_time_week'], dfaux1['sales'], color = 'blue')\n",
    "sns.barplot(x= 'promo_bins', y= 'sales', data= dfaux1 )\n",
    "plt.xticks(rotation=90)\n",
    "plt.title('Promoção Estendida')\n",
    "\n",
    "plt.subplot(grid[0,1])\n",
    "sns.barplot(x= 'promo_time_week', y= 'sales', data= dfaux2  )\n",
    "plt.xticks(rotation=90)\n",
    "plt.title('Promoção Comum');\n",
    "\n",
    "plt.subplot(grid[1,0])\n",
    "sns.regplot(x= 'promo_time_week', y= 'sales', data = dfaux1, order=4, color='red')\n",
    "\n",
    "plt.subplot(grid[1,1])\n",
    "sns.regplot(x= 'promo_time_week', y= 'sales', data = dfaux2, order=4, color='blue');\n",
    "\n",
    "plt.subplot(grid[:,2])\n",
    "sns.heatmap(dfaux1[['promo_time_week','sales']].corr(method='pearson'), annot = True);"
   ]
  },
  {
   "cell_type": "markdown",
   "id": "0eb15ce1-7be2-4858-a236-7d28291620c4",
   "metadata": {},
   "source": [
    "### <s> H5. Lojas com mais dias de promoção deveriam vender mais.</s> "
   ]
  },
  {
   "cell_type": "markdown",
   "id": "02075ee9-6dbc-482f-8cee-aeb695e4ba51",
   "metadata": {
    "jp-MarkdownHeadingCollapsed": true
   },
   "source": [
    "### H6. Lojas com mais promoções concecutivas deveriam vender mais.\n",
    "**FALSA** Lojas com promo e promo2 vendem menos que lojas com apenas promo ativa, e lojas com promo2 ativa vendem menos que lojas sem promo"
   ]
  },
  {
   "cell_type": "code",
   "execution_count": null,
   "id": "6096e3dd-f3a3-4dd3-a8f1-058c3821014e",
   "metadata": {},
   "outputs": [],
   "source": [
    "df4[\"year_month\"]= df4['date'].dt.strftime( \"%Y-%m\")\n",
    "dfaux1 = df4[['year_month','promo' ,'promo2', 'sales']].groupby(['year_month', 'promo', 'promo2']).median('sales').reset_index()\n",
    "dfaux1['num_promo'] = dfaux1.apply(lambda x: 'Nenhuma Promoção' if x['promo']== 0 and x['promo2'] ==0 else\n",
    "                                             'Apenas Promo' if x['promo']== 1 and x['promo2'] == 0 else\n",
    "                                             'Apenas Promo2' if x['promo']== 0 and x['promo2'] ==1 else \n",
    "                                             'Promo Dupla', axis=1)\n",
    "\n",
    "plt.figure(figsize=(8,6))\n",
    "sns.lineplot(x='year_month', y='sales', hue='num_promo', data=dfaux1)\n",
    "plt.legend()\n",
    "plt.xticks(rotation = 90);"
   ]
  },
  {
   "cell_type": "code",
   "execution_count": null,
   "id": "d17a21c7-365f-4542-8a84-b06af5e332f6",
   "metadata": {},
   "outputs": [],
   "source": []
  },
  {
   "cell_type": "markdown",
   "id": "abceef02-6d1d-4f5c-a3e0-a76da6b6dcad",
   "metadata": {
    "jp-MarkdownHeadingCollapsed": true
   },
   "source": [
    "### **H7** Lojas tendem a vender mais ao longo dos anos\n",
    "**FALSA** Houve uma redução na quantidade de vendas ao decorrer do tempo"
   ]
  },
  {
   "cell_type": "code",
   "execution_count": null,
   "id": "e663bf10-2f9c-4559-85a2-0e0c5b19a9db",
   "metadata": {},
   "outputs": [],
   "source": [
    "aux1 = df4[['year_month', 'sales']].groupby('year_month').sum().reset_index()\n",
    "aux2 = df4[['year', 'sales']].groupby('year').sum().reset_index()\n",
    "\n",
    "\n",
    "plt.subplot(1,3,1)\n",
    "sns.barplot(x='year_month', y= 'sales', data = aux1, hue = 'year_month')\n",
    "plt.xticks(rotation = 90)\n",
    "plt.title('Soma de Vendas por Mês', size = 22)\n",
    "\n",
    "plt.subplot(1,3,2)\n",
    "sns.barplot(x='year', y= 'sales', data = aux2, hue = 'year')\n",
    "plt.title('Soma de Vendas por Ano', size = 22)\n",
    "\n",
    "plt.subplot(1,3,3)\n",
    "sns.heatmap(aux2.corr(method= 'pearson'), annot = True);\n"
   ]
  },
  {
   "cell_type": "markdown",
   "id": "be73277c-cebd-44ae-b854-f087058c47e0",
   "metadata": {
    "jp-MarkdownHeadingCollapsed": true
   },
   "source": [
    "## 4.3 Análise Multivariada"
   ]
  },
  {
   "cell_type": "markdown",
   "id": "9397857a-d97b-42c7-9d96-3a5e15641ce2",
   "metadata": {
    "jp-MarkdownHeadingCollapsed": true
   },
   "source": [
    "### 4.3.1 Numérical Attributes"
   ]
  },
  {
   "cell_type": "code",
   "execution_count": null,
   "id": "6fbe12e9-6e47-4518-8093-85b09fca36fa",
   "metadata": {
    "jupyter": {
     "source_hidden": true
    }
   },
   "outputs": [],
   "source": [
    "num_attributes = df1.select_dtypes(include = ['int64', 'float64', 'int32'])\n",
    "\n",
    "columns = ['store', 'day_of_week', 'sales', 'customers', 'open', 'promo',\n",
    "       'school_holiday', 'competition_distance',\n",
    "       'competition_open_since_month', 'competition_open_since_year', 'promo2',\n",
    "       'promo2_since_week', 'promo2_since_year', 'is_promo']"
   ]
  },
  {
   "cell_type": "code",
   "execution_count": null,
   "id": "db2d1395-d952-49c8-80e8-3f11ad079382",
   "metadata": {},
   "outputs": [],
   "source": [
    "plt.figure(figsize= (20,12))\n",
    "correlation = num_attributes[columns].corr(method='pearson')\n",
    "sns.heatmap(correlation, annot=True)"
   ]
  },
  {
   "cell_type": "markdown",
   "id": "37023ac7-f9f9-4dc6-b115-ab70326d532f",
   "metadata": {},
   "source": [
    "### 4.3.2  Categorical Attributes"
   ]
  },
  {
   "cell_type": "code",
   "execution_count": null,
   "id": "57d12a17-84d8-4348-900c-0298c7feb1cc",
   "metadata": {},
   "outputs": [],
   "source": [
    "cat_attributes = df4.select_dtypes(include ='object')\n",
    "colunas = ['state_holiday', 'store_type', 'assortment']\n",
    "aux = cat_attributes[colunas]"
   ]
  },
  {
   "cell_type": "code",
   "execution_count": null,
   "id": "da355069-aef1-4089-8f0b-3f140fcd7057",
   "metadata": {
    "jupyter": {
     "source_hidden": true
    }
   },
   "outputs": [],
   "source": [
    "a1 = cramer_v(aux['state_holiday'], aux['state_holiday'])\n",
    "a2 = cramer_v(aux['state_holiday'], aux['store_type'])\n",
    "a3 = cramer_v(aux['state_holiday'], aux['assortment'])\n",
    "\n",
    "a4 = cramer_v(aux['store_type'], aux['state_holiday'])\n",
    "a5 = cramer_v(aux['store_type'], aux['store_type'])\n",
    "a6 = cramer_v(aux['store_type'], aux['assortment'])\n",
    "\n",
    "a7 = cramer_v(aux['assortment'], aux['state_holiday'])\n",
    "a8 = cramer_v(aux['assortment'], aux['store_type'])\n",
    "a9 = cramer_v(aux['assortment'], aux['assortment'])\n",
    "\n",
    "corr_cat = pd.DataFrame({'state_holiday': [a1,a2,a3],\n",
    "             'store_type': [a4,a5,a6],\n",
    "             'assortment': [a7,a8,a9]})\n",
    "\n",
    "corr_cat = corr_cat.set_index(corr_cat.columns)\n",
    "sns.heatmap(corr_cat, annot=True)"
   ]
  },
  {
   "cell_type": "markdown",
   "id": "b42a91df-cfa3-422e-be18-b771ca74acca",
   "metadata": {},
   "source": [
    "# 5.0 PASSO 5- DATA PREPARATION"
   ]
  },
  {
   "cell_type": "code",
   "execution_count": null,
   "id": "7292fbbd-54ef-4d9a-9f5b-36d8fee50acb",
   "metadata": {},
   "outputs": [],
   "source": [
    "df5 = df4.copy()\n",
    "aux = df5.copy()"
   ]
  },
  {
   "cell_type": "markdown",
   "id": "9c2558f2-72fc-4346-b823-3758b269b6c1",
   "metadata": {},
   "source": [
    "## 5.1 Normalização"
   ]
  },
  {
   "cell_type": "markdown",
   "id": "a8ba01da-b757-4525-a7e1-63e7d2141b96",
   "metadata": {
    "jp-MarkdownHeadingCollapsed": true
   },
   "source": [
    "## 5.2 Rescaling"
   ]
  },
  {
   "cell_type": "code",
   "execution_count": null,
   "id": "7a40f9c7-3a39-4a33-90fb-a800d580eca5",
   "metadata": {},
   "outputs": [],
   "source": [
    "rs = RobustScaler()\n",
    "mms = MinMaxScaler()\n",
    "\n",
    "# competition_distance\n",
    "df5['competition_distance'] = rs.fit_transform(df5[['competition_distance']].values)\n",
    "\n",
    "# competition_time_month\n",
    "df5['competition_time_month'] = rs.fit_transform(df5[['competition_time_month']].values)\n",
    "\n",
    "# promo_time_week \n",
    "df5['promo_time_week'] = mms.fit_transform(df5[['promo_time_week']].values)\n",
    "\n",
    "# year\n",
    "df5['year'] = mms.fit_transform(df5[['year']].values)\n"
   ]
  },
  {
   "cell_type": "markdown",
   "id": "22705fb0-e7ed-4e3c-b2ea-7a7110144b5d",
   "metadata": {},
   "source": [
    "## 5.3 Encoding"
   ]
  },
  {
   "cell_type": "code",
   "execution_count": null,
   "id": "165469db-5e62-4240-b26a-8e73a3190faa",
   "metadata": {},
   "outputs": [],
   "source": [
    "# state_holiday\n",
    "df5 =pd.get_dummies(aux, prefix=['state_holiday'], columns = ['state_holiday'])\n",
    "\n",
    "# store_type\n",
    "le = LabelEncoder()\n",
    "df5['store_type'] = le.fit_transform( aux['store_type'])\n",
    "\n",
    "# assortment\n",
    "assortment_dict = {'basic': 1,\n",
    "                  'extended': 2,\n",
    "                  'extra': 3}\n",
    "\n",
    "df5['assortment'] = df5['assortment'].map(assortment_dict)\n"
   ]
  },
  {
   "cell_type": "code",
   "execution_count": null,
   "id": "0fb4624b-2076-427d-aab0-0e0c5ff01992",
   "metadata": {},
   "outputs": [],
   "source": [
    "# day_of_week\n",
    "# month \n",
    "# day\n",
    "# week_of_year"
   ]
  }
 ],
 "metadata": {
  "kernelspec": {
   "display_name": "Python (ds_em_prod)",
   "language": "python",
   "name": "ds_em_prod"
  },
  "language_info": {
   "codemirror_mode": {
    "name": "ipython",
    "version": 3
   },
   "file_extension": ".py",
   "mimetype": "text/x-python",
   "name": "python",
   "nbconvert_exporter": "python",
   "pygments_lexer": "ipython3",
   "version": "3.12.5"
  }
 },
 "nbformat": 4,
 "nbformat_minor": 5
}
